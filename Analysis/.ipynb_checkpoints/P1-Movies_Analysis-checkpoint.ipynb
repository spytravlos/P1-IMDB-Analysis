{
 "cells": [
  {
   "cell_type": "code",
   "execution_count": 215,
   "metadata": {},
   "outputs": [],
   "source": [
    "import pandas as pd\n",
    "import numpy as np\n",
    "import matplotlib.pyplot as plt\n",
    "import seaborn as sns"
   ]
  },
  {
   "cell_type": "markdown",
   "metadata": {},
   "source": [
    "## A production company has asked us for advice regarding the investment on a new film. Their main concern is the profit they will be able to make from their new movie. Hence the analysis here will be carried out based only on the potential profit the company will make by creating a new movie"
   ]
  },
  {
   "cell_type": "code",
   "execution_count": 216,
   "metadata": {},
   "outputs": [],
   "source": [
    "fmovies = pd.read_csv('/Users/traulosspyros/Desktop/Big Blue Data Academy/spyros-travlos-exercises/P1-Movies/Data/IMDb movies_Cleaned.csv')"
   ]
  },
  {
   "cell_type": "code",
   "execution_count": 217,
   "metadata": {},
   "outputs": [
    {
     "data": {
      "text/html": [
       "<div>\n",
       "<style scoped>\n",
       "    .dataframe tbody tr th:only-of-type {\n",
       "        vertical-align: middle;\n",
       "    }\n",
       "\n",
       "    .dataframe tbody tr th {\n",
       "        vertical-align: top;\n",
       "    }\n",
       "\n",
       "    .dataframe thead th {\n",
       "        text-align: right;\n",
       "    }\n",
       "</style>\n",
       "<table border=\"1\" class=\"dataframe\">\n",
       "  <thead>\n",
       "    <tr style=\"text-align: right;\">\n",
       "      <th></th>\n",
       "      <th>imdb_title_id</th>\n",
       "      <th>title</th>\n",
       "      <th>original_title</th>\n",
       "      <th>year</th>\n",
       "      <th>date_published</th>\n",
       "      <th>genre</th>\n",
       "      <th>duration</th>\n",
       "      <th>country</th>\n",
       "      <th>language</th>\n",
       "      <th>director</th>\n",
       "      <th>writer</th>\n",
       "      <th>production_company</th>\n",
       "      <th>actors</th>\n",
       "      <th>description</th>\n",
       "      <th>avg_vote</th>\n",
       "      <th>votes</th>\n",
       "      <th>budget</th>\n",
       "      <th>usa_gross_income</th>\n",
       "      <th>worlwide_gross_income</th>\n",
       "      <th>metascore</th>\n",
       "      <th>reviews_from_users</th>\n",
       "      <th>reviews_from_critics</th>\n",
       "    </tr>\n",
       "  </thead>\n",
       "  <tbody>\n",
       "    <tr>\n",
       "      <th>0</th>\n",
       "      <td>tt0000009</td>\n",
       "      <td>Miss Jerry</td>\n",
       "      <td>Miss Jerry</td>\n",
       "      <td>1894</td>\n",
       "      <td>1894-10-09</td>\n",
       "      <td>Romance</td>\n",
       "      <td>45</td>\n",
       "      <td>USA</td>\n",
       "      <td>None</td>\n",
       "      <td>Alexander Black</td>\n",
       "      <td>Alexander Black</td>\n",
       "      <td>Alexander Black Photoplays</td>\n",
       "      <td>Blanche Bayliss, William Courtenay, Chauncey D...</td>\n",
       "      <td>The adventures of a female reporter in the 1890s.</td>\n",
       "      <td>5.9</td>\n",
       "      <td>154</td>\n",
       "      <td>0</td>\n",
       "      <td>0</td>\n",
       "      <td>0</td>\n",
       "      <td>NaN</td>\n",
       "      <td>1.0</td>\n",
       "      <td>2.0</td>\n",
       "    </tr>\n",
       "    <tr>\n",
       "      <th>1</th>\n",
       "      <td>tt0000574</td>\n",
       "      <td>The Story of the Kelly Gang</td>\n",
       "      <td>The Story of the Kelly Gang</td>\n",
       "      <td>1906</td>\n",
       "      <td>1906-12-26</td>\n",
       "      <td>Biography, Crime, Drama</td>\n",
       "      <td>70</td>\n",
       "      <td>Australia</td>\n",
       "      <td>None</td>\n",
       "      <td>Charles Tait</td>\n",
       "      <td>Charles Tait</td>\n",
       "      <td>J. and N. Tait</td>\n",
       "      <td>Elizabeth Tait, John Tait, Norman Campbell, Be...</td>\n",
       "      <td>True story of notorious Australian outlaw Ned ...</td>\n",
       "      <td>6.1</td>\n",
       "      <td>589</td>\n",
       "      <td>0</td>\n",
       "      <td>0</td>\n",
       "      <td>0</td>\n",
       "      <td>NaN</td>\n",
       "      <td>7.0</td>\n",
       "      <td>7.0</td>\n",
       "    </tr>\n",
       "    <tr>\n",
       "      <th>2</th>\n",
       "      <td>tt0001892</td>\n",
       "      <td>Den sorte drøm</td>\n",
       "      <td>Den sorte drøm</td>\n",
       "      <td>1911</td>\n",
       "      <td>1911-08-19</td>\n",
       "      <td>Drama</td>\n",
       "      <td>53</td>\n",
       "      <td>Germany, Denmark</td>\n",
       "      <td>NaN</td>\n",
       "      <td>Urban Gad</td>\n",
       "      <td>Urban Gad, Gebhard Schätzler-Perasini</td>\n",
       "      <td>Fotorama</td>\n",
       "      <td>Asta Nielsen, Valdemar Psilander, Gunnar Helse...</td>\n",
       "      <td>Two men of high rank are both wooing the beaut...</td>\n",
       "      <td>5.8</td>\n",
       "      <td>188</td>\n",
       "      <td>0</td>\n",
       "      <td>0</td>\n",
       "      <td>0</td>\n",
       "      <td>NaN</td>\n",
       "      <td>5.0</td>\n",
       "      <td>2.0</td>\n",
       "    </tr>\n",
       "    <tr>\n",
       "      <th>3</th>\n",
       "      <td>tt0002101</td>\n",
       "      <td>Cleopatra</td>\n",
       "      <td>Cleopatra</td>\n",
       "      <td>1912</td>\n",
       "      <td>1912-11-13</td>\n",
       "      <td>Drama, History</td>\n",
       "      <td>100</td>\n",
       "      <td>USA</td>\n",
       "      <td>English</td>\n",
       "      <td>Charles L. Gaskill</td>\n",
       "      <td>Victorien Sardou</td>\n",
       "      <td>Helen Gardner Picture Players</td>\n",
       "      <td>Helen Gardner, Pearl Sindelar, Miss Fielding, ...</td>\n",
       "      <td>The fabled queen of Egypt's affair with Roman ...</td>\n",
       "      <td>5.2</td>\n",
       "      <td>446</td>\n",
       "      <td>0</td>\n",
       "      <td>0</td>\n",
       "      <td>0</td>\n",
       "      <td>NaN</td>\n",
       "      <td>25.0</td>\n",
       "      <td>3.0</td>\n",
       "    </tr>\n",
       "    <tr>\n",
       "      <th>4</th>\n",
       "      <td>tt0002130</td>\n",
       "      <td>L'Inferno</td>\n",
       "      <td>L'Inferno</td>\n",
       "      <td>1911</td>\n",
       "      <td>1911-03-06</td>\n",
       "      <td>Adventure, Drama, Fantasy</td>\n",
       "      <td>68</td>\n",
       "      <td>Italy</td>\n",
       "      <td>Italian</td>\n",
       "      <td>Francesco Bertolini, Adolfo Padovan</td>\n",
       "      <td>Dante Alighieri</td>\n",
       "      <td>Milano Film</td>\n",
       "      <td>Salvatore Papa, Arturo Pirovano, Giuseppe de L...</td>\n",
       "      <td>Loosely adapted from Dante's Divine Comedy and...</td>\n",
       "      <td>7.0</td>\n",
       "      <td>2237</td>\n",
       "      <td>0</td>\n",
       "      <td>0</td>\n",
       "      <td>0</td>\n",
       "      <td>NaN</td>\n",
       "      <td>31.0</td>\n",
       "      <td>14.0</td>\n",
       "    </tr>\n",
       "  </tbody>\n",
       "</table>\n",
       "</div>"
      ],
      "text/plain": [
       "  imdb_title_id                        title               original_title  \\\n",
       "0     tt0000009                   Miss Jerry                   Miss Jerry   \n",
       "1     tt0000574  The Story of the Kelly Gang  The Story of the Kelly Gang   \n",
       "2     tt0001892               Den sorte drøm               Den sorte drøm   \n",
       "3     tt0002101                    Cleopatra                    Cleopatra   \n",
       "4     tt0002130                    L'Inferno                    L'Inferno   \n",
       "\n",
       "   year date_published                      genre  duration           country  \\\n",
       "0  1894     1894-10-09                    Romance        45               USA   \n",
       "1  1906     1906-12-26    Biography, Crime, Drama        70         Australia   \n",
       "2  1911     1911-08-19                      Drama        53  Germany, Denmark   \n",
       "3  1912     1912-11-13             Drama, History       100               USA   \n",
       "4  1911     1911-03-06  Adventure, Drama, Fantasy        68             Italy   \n",
       "\n",
       "  language                             director  \\\n",
       "0     None                      Alexander Black   \n",
       "1     None                         Charles Tait   \n",
       "2      NaN                            Urban Gad   \n",
       "3  English                   Charles L. Gaskill   \n",
       "4  Italian  Francesco Bertolini, Adolfo Padovan   \n",
       "\n",
       "                                  writer             production_company  \\\n",
       "0                        Alexander Black     Alexander Black Photoplays   \n",
       "1                           Charles Tait                 J. and N. Tait   \n",
       "2  Urban Gad, Gebhard Schätzler-Perasini                       Fotorama   \n",
       "3                       Victorien Sardou  Helen Gardner Picture Players   \n",
       "4                        Dante Alighieri                    Milano Film   \n",
       "\n",
       "                                              actors  \\\n",
       "0  Blanche Bayliss, William Courtenay, Chauncey D...   \n",
       "1  Elizabeth Tait, John Tait, Norman Campbell, Be...   \n",
       "2  Asta Nielsen, Valdemar Psilander, Gunnar Helse...   \n",
       "3  Helen Gardner, Pearl Sindelar, Miss Fielding, ...   \n",
       "4  Salvatore Papa, Arturo Pirovano, Giuseppe de L...   \n",
       "\n",
       "                                         description  avg_vote  votes  budget  \\\n",
       "0  The adventures of a female reporter in the 1890s.       5.9    154       0   \n",
       "1  True story of notorious Australian outlaw Ned ...       6.1    589       0   \n",
       "2  Two men of high rank are both wooing the beaut...       5.8    188       0   \n",
       "3  The fabled queen of Egypt's affair with Roman ...       5.2    446       0   \n",
       "4  Loosely adapted from Dante's Divine Comedy and...       7.0   2237       0   \n",
       "\n",
       "   usa_gross_income  worlwide_gross_income  metascore  reviews_from_users  \\\n",
       "0                 0                      0        NaN                 1.0   \n",
       "1                 0                      0        NaN                 7.0   \n",
       "2                 0                      0        NaN                 5.0   \n",
       "3                 0                      0        NaN                25.0   \n",
       "4                 0                      0        NaN                31.0   \n",
       "\n",
       "   reviews_from_critics  \n",
       "0                   2.0  \n",
       "1                   7.0  \n",
       "2                   2.0  \n",
       "3                   3.0  \n",
       "4                  14.0  "
      ]
     },
     "execution_count": 217,
     "metadata": {},
     "output_type": "execute_result"
    }
   ],
   "source": [
    "fmovies.head()"
   ]
  },
  {
   "cell_type": "code",
   "execution_count": 218,
   "metadata": {},
   "outputs": [
    {
     "name": "stdout",
     "output_type": "stream",
     "text": [
      "<class 'pandas.core.frame.DataFrame'>\n",
      "RangeIndex: 85855 entries, 0 to 85854\n",
      "Data columns (total 22 columns):\n",
      " #   Column                 Non-Null Count  Dtype  \n",
      "---  ------                 --------------  -----  \n",
      " 0   imdb_title_id          85855 non-null  object \n",
      " 1   title                  85855 non-null  object \n",
      " 2   original_title         85855 non-null  object \n",
      " 3   year                   85855 non-null  int64  \n",
      " 4   date_published         85855 non-null  object \n",
      " 5   genre                  85855 non-null  object \n",
      " 6   duration               85855 non-null  int64  \n",
      " 7   country                85791 non-null  object \n",
      " 8   language               85022 non-null  object \n",
      " 9   director               85768 non-null  object \n",
      " 10  writer                 84283 non-null  object \n",
      " 11  production_company     81400 non-null  object \n",
      " 12  actors                 85786 non-null  object \n",
      " 13  description            83740 non-null  object \n",
      " 14  avg_vote               85855 non-null  float64\n",
      " 15  votes                  85855 non-null  int64  \n",
      " 16  budget                 85855 non-null  int64  \n",
      " 17  usa_gross_income       85855 non-null  int64  \n",
      " 18  worlwide_gross_income  85855 non-null  int64  \n",
      " 19  metascore              13305 non-null  float64\n",
      " 20  reviews_from_users     78258 non-null  float64\n",
      " 21  reviews_from_critics   74058 non-null  float64\n",
      "dtypes: float64(4), int64(6), object(12)\n",
      "memory usage: 14.4+ MB\n"
     ]
    }
   ],
   "source": [
    "fmovies.info()"
   ]
  },
  {
   "cell_type": "markdown",
   "metadata": {},
   "source": [
    "### Find the movies with the highest income both in USA and Worlwide"
   ]
  },
  {
   "cell_type": "code",
   "execution_count": 219,
   "metadata": {},
   "outputs": [],
   "source": [
    "#Usa_gross_income\n",
    "fmovies['usa_gross_income'] = fmovies['usa_gross_income'].replace(0, np.nan)"
   ]
  },
  {
   "cell_type": "code",
   "execution_count": 220,
   "metadata": {},
   "outputs": [],
   "source": [
    "fmovies.dropna(subset = ['usa_gross_income'], inplace = True)"
   ]
  },
  {
   "cell_type": "code",
   "execution_count": 221,
   "metadata": {},
   "outputs": [],
   "source": [
    "usa_movies = fmovies.sort_values(by = ['usa_gross_income'], ascending = False).head(10)\n",
    "\n"
   ]
  },
  {
   "cell_type": "code",
   "execution_count": 222,
   "metadata": {},
   "outputs": [
    {
     "data": {
      "text/plain": [
       "(array([0, 1, 2, 3, 4, 5, 6, 7, 8, 9]),\n",
       " [Text(0, 0, 'Star Wars: Episode VII - The Force Awakens'),\n",
       "  Text(1, 0, 'Avengers: Endgame'),\n",
       "  Text(2, 0, 'Avatar'),\n",
       "  Text(3, 0, 'Black Panther'),\n",
       "  Text(4, 0, 'Avengers: Infinity War'),\n",
       "  Text(5, 0, 'Titanic'),\n",
       "  Text(6, 0, 'Jurassic World'),\n",
       "  Text(7, 0, 'The Avengers'),\n",
       "  Text(8, 0, 'Star Wars: Episode VIII - The Last Jedi'),\n",
       "  Text(9, 0, 'Incredibles 2')])"
      ]
     },
     "execution_count": 222,
     "metadata": {},
     "output_type": "execute_result"
    },
    {
     "data": {
      "image/png": "[encoded data removed]",
      "text/plain": [
       "<Figure size 1296x576 with 1 Axes>"
      ]
     },
     "metadata": {
      "needs_background": "light"
     },
     "output_type": "display_data"
    }
   ],
   "source": [
    "plt.figure(figsize=(18,8))\n",
    "sns.barplot(x=\"original_title\", y=\"usa_gross_income\", data=usa_movies).set_title('Top 10 movies with the highest income in the US')\n",
    "plt.xticks(rotation=45)\n"
   ]
  },
  {
   "cell_type": "code",
   "execution_count": 223,
   "metadata": {},
   "outputs": [],
   "source": [
    "#worlwide_gross_income\n",
    "\n",
    "fmovies['worlwide_gross_income'] = fmovies['worlwide_gross_income'].replace(0, np.nan)"
   ]
  },
  {
   "cell_type": "code",
   "execution_count": 224,
   "metadata": {},
   "outputs": [],
   "source": [
    "fmovies.dropna(subset = ['worlwide_gross_income'], inplace = True)"
   ]
  },
  {
   "cell_type": "code",
   "execution_count": 225,
   "metadata": {},
   "outputs": [],
   "source": [
    "world_movies = fmovies.sort_values(by = ['worlwide_gross_income'], ascending = False).head(10)\n",
    "\n"
   ]
  },
  {
   "cell_type": "code",
   "execution_count": 226,
   "metadata": {},
   "outputs": [
    {
     "data": {
      "text/plain": [
       "(array([0, 1, 2, 3, 4, 5, 6, 7, 8, 9]),\n",
       " [Text(0, 0, 'Avengers: Endgame'),\n",
       "  Text(1, 0, 'Avatar'),\n",
       "  Text(2, 0, 'Titanic'),\n",
       "  Text(3, 0, 'Star Wars: Episode VII - The Force Awakens'),\n",
       "  Text(4, 0, 'Avengers: Infinity War'),\n",
       "  Text(5, 0, 'Jurassic World'),\n",
       "  Text(6, 0, 'The Lion King'),\n",
       "  Text(7, 0, 'The Avengers'),\n",
       "  Text(8, 0, 'Fast & Furious 7'),\n",
       "  Text(9, 0, 'Frozen II')])"
      ]
     },
     "execution_count": 226,
     "metadata": {},
     "output_type": "execute_result"
    },
    {
     "data": {
      "image/png": "[encoded data removed]",
      "text/plain": [
       "<Figure size 1296x576 with 1 Axes>"
      ]
     },
     "metadata": {
      "needs_background": "light"
     },
     "output_type": "display_data"
    }
   ],
   "source": [
    "plt.figure(figsize=(18,8))\n",
    "sns.barplot(x=\"original_title\", y=\"worlwide_gross_income\", data=world_movies).set_title('Top 10 movies with the highest income worlwide')\n",
    "plt.xticks(rotation=45)\n",
    "\n"
   ]
  },
  {
   "cell_type": "code",
   "execution_count": 227,
   "metadata": {},
   "outputs": [],
   "source": [
    "#Let's find the total income of movies and see the top 10\n",
    "fmovies['Total Income'] = fmovies['worlwide_gross_income'] + fmovies['usa_gross_income']\n"
   ]
  },
  {
   "cell_type": "code",
   "execution_count": 228,
   "metadata": {},
   "outputs": [],
   "source": [
    "total_income = fmovies.sort_values(by = ['Total Income'], ascending = False).head(10)\n",
    "\n"
   ]
  },
  {
   "cell_type": "code",
   "execution_count": 229,
   "metadata": {},
   "outputs": [
    {
     "data": {
      "text/plain": [
       "(array([0, 1, 2, 3, 4, 5, 6, 7, 8, 9]),\n",
       " [Text(0, 0, 'Avengers: Endgame'),\n",
       "  Text(1, 0, 'Avatar'),\n",
       "  Text(2, 0, 'Star Wars: Episode VII - The Force Awakens'),\n",
       "  Text(3, 0, 'Titanic'),\n",
       "  Text(4, 0, 'Avengers: Infinity War'),\n",
       "  Text(5, 0, 'Jurassic World'),\n",
       "  Text(6, 0, 'The Lion King'),\n",
       "  Text(7, 0, 'The Avengers'),\n",
       "  Text(8, 0, 'Black Panther'),\n",
       "  Text(9, 0, 'Star Wars: Episode VIII - The Last Jedi')])"
      ]
     },
     "execution_count": 229,
     "metadata": {},
     "output_type": "execute_result"
    },
    {
     "data": {
      "image/png": "[encoded data removed]",
      "text/plain": [
       "<Figure size 1296x576 with 1 Axes>"
      ]
     },
     "metadata": {
      "needs_background": "light"
     },
     "output_type": "display_data"
    }
   ],
   "source": [
    "plt.figure(figsize=(18,8))\n",
    "sns.barplot(x=\"original_title\", y=\"Total Income\", data=total_income).set_title('Top 10 movies with the highest total income')\n",
    "plt.xticks(rotation=45)"
   ]
  },
  {
   "cell_type": "markdown",
   "metadata": {},
   "source": [
    "### Now we need to add a new column named Profit which will allow for us to see which movies were the most profitable"
   ]
  },
  {
   "cell_type": "code",
   "execution_count": 230,
   "metadata": {},
   "outputs": [],
   "source": [
    "#First we need to drop the columns for which the budget is zero\n",
    "fmovies['budget'] = fmovies['budget'].replace(0, np.nan)"
   ]
  },
  {
   "cell_type": "code",
   "execution_count": 231,
   "metadata": {},
   "outputs": [
    {
     "name": "stdout",
     "output_type": "stream",
     "text": [
      "<class 'pandas.core.frame.DataFrame'>\n",
      "Int64Index: 7703 entries, 245 to 85838\n",
      "Data columns (total 23 columns):\n",
      " #   Column                 Non-Null Count  Dtype  \n",
      "---  ------                 --------------  -----  \n",
      " 0   imdb_title_id          7703 non-null   object \n",
      " 1   title                  7703 non-null   object \n",
      " 2   original_title         7703 non-null   object \n",
      " 3   year                   7703 non-null   int64  \n",
      " 4   date_published         7703 non-null   object \n",
      " 5   genre                  7703 non-null   object \n",
      " 6   duration               7703 non-null   int64  \n",
      " 7   country                7702 non-null   object \n",
      " 8   language               7698 non-null   object \n",
      " 9   director               7701 non-null   object \n",
      " 10  writer                 7695 non-null   object \n",
      " 11  production_company     7676 non-null   object \n",
      " 12  actors                 7701 non-null   object \n",
      " 13  description            7687 non-null   object \n",
      " 14  avg_vote               7703 non-null   float64\n",
      " 15  votes                  7703 non-null   int64  \n",
      " 16  budget                 5820 non-null   float64\n",
      " 17  usa_gross_income       7703 non-null   float64\n",
      " 18  worlwide_gross_income  7703 non-null   float64\n",
      " 19  metascore              6102 non-null   float64\n",
      " 20  reviews_from_users     7701 non-null   float64\n",
      " 21  reviews_from_critics   7691 non-null   float64\n",
      " 22  Total Income           7703 non-null   float64\n",
      "dtypes: float64(8), int64(3), object(12)\n",
      "memory usage: 1.4+ MB\n"
     ]
    }
   ],
   "source": [
    "fmovies.info()"
   ]
  },
  {
   "cell_type": "code",
   "execution_count": 232,
   "metadata": {},
   "outputs": [],
   "source": [
    "fmovies.dropna(subset = ['budget'], inplace = True)"
   ]
  },
  {
   "cell_type": "code",
   "execution_count": 233,
   "metadata": {},
   "outputs": [
    {
     "name": "stdout",
     "output_type": "stream",
     "text": [
      "<class 'pandas.core.frame.DataFrame'>\n",
      "Int64Index: 5820 entries, 506 to 85740\n",
      "Data columns (total 23 columns):\n",
      " #   Column                 Non-Null Count  Dtype  \n",
      "---  ------                 --------------  -----  \n",
      " 0   imdb_title_id          5820 non-null   object \n",
      " 1   title                  5820 non-null   object \n",
      " 2   original_title         5820 non-null   object \n",
      " 3   year                   5820 non-null   int64  \n",
      " 4   date_published         5820 non-null   object \n",
      " 5   genre                  5820 non-null   object \n",
      " 6   duration               5820 non-null   int64  \n",
      " 7   country                5820 non-null   object \n",
      " 8   language               5819 non-null   object \n",
      " 9   director               5820 non-null   object \n",
      " 10  writer                 5820 non-null   object \n",
      " 11  production_company     5810 non-null   object \n",
      " 12  actors                 5820 non-null   object \n",
      " 13  description            5808 non-null   object \n",
      " 14  avg_vote               5820 non-null   float64\n",
      " 15  votes                  5820 non-null   int64  \n",
      " 16  budget                 5820 non-null   float64\n",
      " 17  usa_gross_income       5820 non-null   float64\n",
      " 18  worlwide_gross_income  5820 non-null   float64\n",
      " 19  metascore              5084 non-null   float64\n",
      " 20  reviews_from_users     5819 non-null   float64\n",
      " 21  reviews_from_critics   5816 non-null   float64\n",
      " 22  Total Income           5820 non-null   float64\n",
      "dtypes: float64(8), int64(3), object(12)\n",
      "memory usage: 1.1+ MB\n"
     ]
    }
   ],
   "source": [
    "fmovies.info()"
   ]
  },
  {
   "cell_type": "code",
   "execution_count": 234,
   "metadata": {},
   "outputs": [],
   "source": [
    "#Now we can create our Profit column\n",
    "fmovies['Profit'] = fmovies['Total Income'] - fmovies['budget']"
   ]
  },
  {
   "cell_type": "code",
   "execution_count": 235,
   "metadata": {},
   "outputs": [],
   "source": [
    "#Similarly we will find the top 10 profitable movies \n",
    "profit_movies = fmovies.sort_values(by = 'Profit', ascending = False).head(10)"
   ]
  },
  {
   "cell_type": "code",
   "execution_count": 236,
   "metadata": {},
   "outputs": [
    {
     "data": {
      "text/plain": [
       "(array([0, 1, 2, 3, 4, 5, 6, 7, 8, 9]),\n",
       " [Text(0, 0, 'Avatar'),\n",
       "  Text(1, 0, 'Avengers: Endgame'),\n",
       "  Text(2, 0, 'Star Wars: Episode VII - The Force Awakens'),\n",
       "  Text(3, 0, 'Titanic'),\n",
       "  Text(4, 0, 'Avengers: Infinity War'),\n",
       "  Text(5, 0, 'Jurassic World'),\n",
       "  Text(6, 0, 'The Lion King'),\n",
       "  Text(7, 0, 'The Avengers'),\n",
       "  Text(8, 0, 'Black Panther'),\n",
       "  Text(9, 0, 'Frozen II')])"
      ]
     },
     "execution_count": 236,
     "metadata": {},
     "output_type": "execute_result"
    },
    {
     "data": {
      "image/png": "[encoded data removed]",
      "text/plain": [
       "<Figure size 1296x576 with 1 Axes>"
      ]
     },
     "metadata": {
      "needs_background": "light"
     },
     "output_type": "display_data"
    }
   ],
   "source": [
    "plt.figure(figsize=(18,8))\n",
    "sns.barplot(x=\"original_title\", y=\"Profit\", data=profit_movies).set_title('Top 10 movies with the highest profit')\n",
    "plt.xticks(rotation=45)\n",
    "\n"
   ]
  },
  {
   "cell_type": "markdown",
   "metadata": {},
   "source": [
    "## Let's find the movies with negative profit"
   ]
  },
  {
   "cell_type": "code",
   "execution_count": 237,
   "metadata": {},
   "outputs": [],
   "source": [
    "neg_profit_movies = fmovies[fmovies['Profit']<0]"
   ]
  },
  {
   "cell_type": "code",
   "execution_count": 238,
   "metadata": {},
   "outputs": [],
   "source": [
    "neg_profit_movies = neg_profit_movies.sort_values(by = 'Profit', ascending = True).head(10)"
   ]
  },
  {
   "cell_type": "code",
   "execution_count": 239,
   "metadata": {},
   "outputs": [
    {
     "data": {
      "text/plain": [
       "(array([0, 1, 2, 3, 4, 5, 6, 7, 8, 9]),\n",
       " [Text(0, 0, 'Sin-gwa ham-kke: In-gwa yeon'),\n",
       "  Text(1, 0, 'Der Name der Rose'),\n",
       "  Text(2, 0, 'Gwoemul'),\n",
       "  Text(3, 0, 'Ah-ga-ssi'),\n",
       "  Text(4, 0, 'Busanhaeng'),\n",
       "  Text(5, 0, '2.0'),\n",
       "  Text(6, 0, 'Saaho'),\n",
       "  Text(7, 0, 'Mononoke-hime'),\n",
       "  Text(8, 0, 'Bãhubali 2: The Conclusion'),\n",
       "  Text(9, 0, 'Inosensu: Innocence')])"
      ]
     },
     "execution_count": 239,
     "metadata": {},
     "output_type": "execute_result"
    },
    {
     "data": {
      "image/png": "[encoded data removed]",
      "text/plain": [
       "<Figure size 1296x576 with 1 Axes>"
      ]
     },
     "metadata": {
      "needs_background": "light"
     },
     "output_type": "display_data"
    }
   ],
   "source": [
    "plt.figure(figsize=(18,8))\n",
    "sns.barplot(x=\"original_title\", y=\"Profit\", data=neg_profit_movies).set_title('Top 10 movies with the highest loss')\n",
    "plt.xticks(rotation=45)\n",
    "\n"
   ]
  },
  {
   "cell_type": "markdown",
   "metadata": {},
   "source": [
    "## Now let's examine what makes a movie profitable"
   ]
  },
  {
   "cell_type": "code",
   "execution_count": 240,
   "metadata": {},
   "outputs": [],
   "source": [
    "#We will take the first 1000 profitable movies as to have a larger sample\n",
    "profit_movies = fmovies.sort_values(by = 'Profit', ascending = False).head(1000)"
   ]
  },
  {
   "cell_type": "code",
   "execution_count": 241,
   "metadata": {},
   "outputs": [
    {
     "data": {
      "text/html": [
       "<div>\n",
       "<style scoped>\n",
       "    .dataframe tbody tr th:only-of-type {\n",
       "        vertical-align: middle;\n",
       "    }\n",
       "\n",
       "    .dataframe tbody tr th {\n",
       "        vertical-align: top;\n",
       "    }\n",
       "\n",
       "    .dataframe thead th {\n",
       "        text-align: right;\n",
       "    }\n",
       "</style>\n",
       "<table border=\"1\" class=\"dataframe\">\n",
       "  <thead>\n",
       "    <tr style=\"text-align: right;\">\n",
       "      <th></th>\n",
       "      <th>imdb_title_id</th>\n",
       "      <th>title</th>\n",
       "      <th>original_title</th>\n",
       "      <th>year</th>\n",
       "      <th>date_published</th>\n",
       "      <th>genre</th>\n",
       "      <th>duration</th>\n",
       "      <th>country</th>\n",
       "      <th>language</th>\n",
       "      <th>director</th>\n",
       "      <th>writer</th>\n",
       "      <th>production_company</th>\n",
       "      <th>actors</th>\n",
       "      <th>description</th>\n",
       "      <th>avg_vote</th>\n",
       "      <th>votes</th>\n",
       "      <th>budget</th>\n",
       "      <th>usa_gross_income</th>\n",
       "      <th>worlwide_gross_income</th>\n",
       "      <th>metascore</th>\n",
       "      <th>reviews_from_users</th>\n",
       "      <th>reviews_from_critics</th>\n",
       "      <th>Total Income</th>\n",
       "      <th>Profit</th>\n",
       "    </tr>\n",
       "  </thead>\n",
       "  <tbody>\n",
       "    <tr>\n",
       "      <th>49415</th>\n",
       "      <td>tt0499549</td>\n",
       "      <td>Avatar</td>\n",
       "      <td>Avatar</td>\n",
       "      <td>2009</td>\n",
       "      <td>2010-01-15</td>\n",
       "      <td>Action, Adventure, Fantasy</td>\n",
       "      <td>162</td>\n",
       "      <td>USA</td>\n",
       "      <td>English, Spanish</td>\n",
       "      <td>James Cameron</td>\n",
       "      <td>James Cameron</td>\n",
       "      <td>Twentieth Century Fox</td>\n",
       "      <td>Sam Worthington, Zoe Saldana, Sigourney Weaver...</td>\n",
       "      <td>A paraplegic Marine dispatched to the moon Pan...</td>\n",
       "      <td>7.8</td>\n",
       "      <td>1101160</td>\n",
       "      <td>237.0</td>\n",
       "      <td>760.0</td>\n",
       "      <td>2790.0</td>\n",
       "      <td>83.0</td>\n",
       "      <td>3442.0</td>\n",
       "      <td>733.0</td>\n",
       "      <td>3550.0</td>\n",
       "      <td>3313.0</td>\n",
       "    </tr>\n",
       "    <tr>\n",
       "      <th>73865</th>\n",
       "      <td>tt4154796</td>\n",
       "      <td>Avengers: Endgame</td>\n",
       "      <td>Avengers: Endgame</td>\n",
       "      <td>2019</td>\n",
       "      <td>2019-04-24</td>\n",
       "      <td>Action, Adventure, Drama</td>\n",
       "      <td>181</td>\n",
       "      <td>USA</td>\n",
       "      <td>English, Japanese, Xhosa, German</td>\n",
       "      <td>Anthony Russo, Joe Russo</td>\n",
       "      <td>Christopher Markus, Stephen McFeely</td>\n",
       "      <td>Marvel Studios</td>\n",
       "      <td>Robert Downey Jr., Chris Evans, Mark Ruffalo, ...</td>\n",
       "      <td>After the devastating events of</td>\n",
       "      <td>8.4</td>\n",
       "      <td>754786</td>\n",
       "      <td>356.0</td>\n",
       "      <td>858.0</td>\n",
       "      <td>2797.0</td>\n",
       "      <td>78.0</td>\n",
       "      <td>8869.0</td>\n",
       "      <td>557.0</td>\n",
       "      <td>3655.0</td>\n",
       "      <td>3299.0</td>\n",
       "    </tr>\n",
       "    <tr>\n",
       "      <th>67523</th>\n",
       "      <td>tt2488496</td>\n",
       "      <td>Star Wars - Il risveglio della Forza</td>\n",
       "      <td>Star Wars: Episode VII - The Force Awakens</td>\n",
       "      <td>2015</td>\n",
       "      <td>2015-12-16</td>\n",
       "      <td>Action, Adventure, Sci-Fi</td>\n",
       "      <td>138</td>\n",
       "      <td>USA</td>\n",
       "      <td>English</td>\n",
       "      <td>J.J. Abrams</td>\n",
       "      <td>Lawrence Kasdan, J.J. Abrams</td>\n",
       "      <td>Lucasfilm</td>\n",
       "      <td>Harrison Ford, Mark Hamill, Carrie Fisher, Ada...</td>\n",
       "      <td>As a new threat to the galaxy rises, Rey, a de...</td>\n",
       "      <td>7.9</td>\n",
       "      <td>845102</td>\n",
       "      <td>245.0</td>\n",
       "      <td>936.0</td>\n",
       "      <td>2068.0</td>\n",
       "      <td>80.0</td>\n",
       "      <td>4822.0</td>\n",
       "      <td>909.0</td>\n",
       "      <td>3004.0</td>\n",
       "      <td>2759.0</td>\n",
       "    </tr>\n",
       "    <tr>\n",
       "      <th>31086</th>\n",
       "      <td>tt0120338</td>\n",
       "      <td>Titanic</td>\n",
       "      <td>Titanic</td>\n",
       "      <td>1997</td>\n",
       "      <td>1998-01-16</td>\n",
       "      <td>Drama, Romance</td>\n",
       "      <td>194</td>\n",
       "      <td>USA, Mexico, Australia, Canada</td>\n",
       "      <td>English, Swedish, Italian, French</td>\n",
       "      <td>James Cameron</td>\n",
       "      <td>James Cameron</td>\n",
       "      <td>Twentieth Century Fox</td>\n",
       "      <td>Leonardo DiCaprio, Kate Winslet, Billy Zane, K...</td>\n",
       "      <td>A seventeen-year-old aristocrat falls in love ...</td>\n",
       "      <td>7.8</td>\n",
       "      <td>1023181</td>\n",
       "      <td>200.0</td>\n",
       "      <td>659.0</td>\n",
       "      <td>2195.0</td>\n",
       "      <td>75.0</td>\n",
       "      <td>2884.0</td>\n",
       "      <td>331.0</td>\n",
       "      <td>2854.0</td>\n",
       "      <td>2654.0</td>\n",
       "    </tr>\n",
       "    <tr>\n",
       "      <th>73864</th>\n",
       "      <td>tt4154756</td>\n",
       "      <td>Avengers: Infinity War</td>\n",
       "      <td>Avengers: Infinity War</td>\n",
       "      <td>2018</td>\n",
       "      <td>2018-04-25</td>\n",
       "      <td>Action, Adventure, Sci-Fi</td>\n",
       "      <td>149</td>\n",
       "      <td>USA</td>\n",
       "      <td>English</td>\n",
       "      <td>Anthony Russo, Joe Russo</td>\n",
       "      <td>Christopher Markus, Stephen McFeely</td>\n",
       "      <td>Marvel Studios</td>\n",
       "      <td>Robert Downey Jr., Chris Hemsworth, Mark Ruffa...</td>\n",
       "      <td>The Avengers and their allies must be willing ...</td>\n",
       "      <td>8.4</td>\n",
       "      <td>796486</td>\n",
       "      <td>321.0</td>\n",
       "      <td>678.0</td>\n",
       "      <td>2048.0</td>\n",
       "      <td>68.0</td>\n",
       "      <td>4273.0</td>\n",
       "      <td>611.0</td>\n",
       "      <td>2726.0</td>\n",
       "      <td>2405.0</td>\n",
       "    </tr>\n",
       "  </tbody>\n",
       "</table>\n",
       "</div>"
      ],
      "text/plain": [
       "      imdb_title_id                                 title  \\\n",
       "49415     tt0499549                                Avatar   \n",
       "73865     tt4154796                     Avengers: Endgame   \n",
       "67523     tt2488496  Star Wars - Il risveglio della Forza   \n",
       "31086     tt0120338                               Titanic   \n",
       "73864     tt4154756                Avengers: Infinity War   \n",
       "\n",
       "                                   original_title  year date_published  \\\n",
       "49415                                      Avatar  2009     2010-01-15   \n",
       "73865                           Avengers: Endgame  2019     2019-04-24   \n",
       "67523  Star Wars: Episode VII - The Force Awakens  2015     2015-12-16   \n",
       "31086                                     Titanic  1997     1998-01-16   \n",
       "73864                      Avengers: Infinity War  2018     2018-04-25   \n",
       "\n",
       "                            genre  duration                         country  \\\n",
       "49415  Action, Adventure, Fantasy       162                             USA   \n",
       "73865    Action, Adventure, Drama       181                             USA   \n",
       "67523   Action, Adventure, Sci-Fi       138                             USA   \n",
       "31086              Drama, Romance       194  USA, Mexico, Australia, Canada   \n",
       "73864   Action, Adventure, Sci-Fi       149                             USA   \n",
       "\n",
       "                                language                  director  \\\n",
       "49415                   English, Spanish             James Cameron   \n",
       "73865   English, Japanese, Xhosa, German  Anthony Russo, Joe Russo   \n",
       "67523                            English               J.J. Abrams   \n",
       "31086  English, Swedish, Italian, French             James Cameron   \n",
       "73864                            English  Anthony Russo, Joe Russo   \n",
       "\n",
       "                                    writer     production_company  \\\n",
       "49415                        James Cameron  Twentieth Century Fox   \n",
       "73865  Christopher Markus, Stephen McFeely         Marvel Studios   \n",
       "67523         Lawrence Kasdan, J.J. Abrams              Lucasfilm   \n",
       "31086                        James Cameron  Twentieth Century Fox   \n",
       "73864  Christopher Markus, Stephen McFeely         Marvel Studios   \n",
       "\n",
       "                                                  actors  \\\n",
       "49415  Sam Worthington, Zoe Saldana, Sigourney Weaver...   \n",
       "73865  Robert Downey Jr., Chris Evans, Mark Ruffalo, ...   \n",
       "67523  Harrison Ford, Mark Hamill, Carrie Fisher, Ada...   \n",
       "31086  Leonardo DiCaprio, Kate Winslet, Billy Zane, K...   \n",
       "73864  Robert Downey Jr., Chris Hemsworth, Mark Ruffa...   \n",
       "\n",
       "                                             description  avg_vote    votes  \\\n",
       "49415  A paraplegic Marine dispatched to the moon Pan...       7.8  1101160   \n",
       "73865                    After the devastating events of       8.4   754786   \n",
       "67523  As a new threat to the galaxy rises, Rey, a de...       7.9   845102   \n",
       "31086  A seventeen-year-old aristocrat falls in love ...       7.8  1023181   \n",
       "73864  The Avengers and their allies must be willing ...       8.4   796486   \n",
       "\n",
       "       budget  usa_gross_income  worlwide_gross_income  metascore  \\\n",
       "49415   237.0             760.0                 2790.0       83.0   \n",
       "73865   356.0             858.0                 2797.0       78.0   \n",
       "67523   245.0             936.0                 2068.0       80.0   \n",
       "31086   200.0             659.0                 2195.0       75.0   \n",
       "73864   321.0             678.0                 2048.0       68.0   \n",
       "\n",
       "       reviews_from_users  reviews_from_critics  Total Income  Profit  \n",
       "49415              3442.0                 733.0        3550.0  3313.0  \n",
       "73865              8869.0                 557.0        3655.0  3299.0  \n",
       "67523              4822.0                 909.0        3004.0  2759.0  \n",
       "31086              2884.0                 331.0        2854.0  2654.0  \n",
       "73864              4273.0                 611.0        2726.0  2405.0  "
      ]
     },
     "execution_count": 241,
     "metadata": {},
     "output_type": "execute_result"
    }
   ],
   "source": [
    "profit_movies.head()"
   ]
  },
  {
   "cell_type": "markdown",
   "metadata": {},
   "source": [
    "### 1) Choosing a director\n",
    "### Here we will find the director whose movies make the largest profit"
   ]
  },
  {
   "cell_type": "code",
   "execution_count": 242,
   "metadata": {},
   "outputs": [
    {
     "data": {
      "text/plain": [
       "Steven Spielberg                    23\n",
       "Robert Zemeckis                      9\n",
       "Michael Bay                          9\n",
       "Ron Howard                           9\n",
       "Chris Columbus                       8\n",
       "                                    ..\n",
       "Klay Hall                            1\n",
       "Harold Ramis                         1\n",
       "Stephen Hillenburg, Mark Osborne     1\n",
       "Frank Darabont                       1\n",
       "Edgar Wright                         1\n",
       "Name: director, Length: 517, dtype: int64"
      ]
     },
     "execution_count": 242,
     "metadata": {},
     "output_type": "execute_result"
    }
   ],
   "source": [
    "profit_movies['director'].value_counts()"
   ]
  },
  {
   "cell_type": "code",
   "execution_count": 243,
   "metadata": {},
   "outputs": [],
   "source": [
    "dir_profit = profit_movies.groupby('director')['Profit'].sum()"
   ]
  },
  {
   "cell_type": "code",
   "execution_count": 244,
   "metadata": {},
   "outputs": [],
   "source": [
    "dir_profit = dir_profit.sort_values(ascending = False).head(10)"
   ]
  },
  {
   "cell_type": "code",
   "execution_count": 245,
   "metadata": {},
   "outputs": [
    {
     "data": {
      "text/plain": [
       "<AxesSubplot:xlabel='Director', ylabel='Total Profit'>"
      ]
     },
     "execution_count": 245,
     "metadata": {},
     "output_type": "execute_result"
    },
    {
     "data": {
      "image/png": "[encoded data removed]",
      "text/plain": [
       "<Figure size 720x576 with 1 Axes>"
      ]
     },
     "metadata": {
      "needs_background": "light"
     },
     "output_type": "display_data"
    }
   ],
   "source": [
    "dir_profit.plot.bar(xlabel = 'Director', ylabel = 'Total Profit', figsize = [10,8])"
   ]
  },
  {
   "cell_type": "markdown",
   "metadata": {},
   "source": [
    "## 2) Writer\n",
    "### ### Here we will find the writers that are most frequent among the top profitable movies"
   ]
  },
  {
   "cell_type": "code",
   "execution_count": 246,
   "metadata": {},
   "outputs": [
    {
     "data": {
      "text/plain": [
       "M. Night Shyamalan                     7\n",
       "Cinco Paul, Ken Daurio                 6\n",
       "Jonathan Aibel, Glenn Berger           6\n",
       "Christopher Markus, Stephen McFeely    6\n",
       "Melissa Rosenberg, Stephenie Meyer     5\n",
       "                                      ..\n",
       "Diablo Cody                            1\n",
       "Erica Rivinoja, John Francis Daley     1\n",
       "Kristen Wiig, Annie Mumolo             1\n",
       "William Monahan, Alan Mak              1\n",
       "Mark Fergus, Hawk Ostby                1\n",
       "Name: writer, Length: 855, dtype: int64"
      ]
     },
     "execution_count": 246,
     "metadata": {},
     "output_type": "execute_result"
    }
   ],
   "source": [
    "profit_movies['writer'].value_counts()"
   ]
  },
  {
   "cell_type": "code",
   "execution_count": 247,
   "metadata": {},
   "outputs": [],
   "source": [
    "profit_movies['writer_II'] = profit_movies['writer'].str.split(',')"
   ]
  },
  {
   "cell_type": "code",
   "execution_count": 249,
   "metadata": {},
   "outputs": [],
   "source": [
    "def to_1D(series):\n",
    " return pd.Series([x for _list in series for x in _list])"
   ]
  },
  {
   "cell_type": "code",
   "execution_count": 250,
   "metadata": {},
   "outputs": [],
   "source": [
    "writers = to_1D(profit_movies['writer_II'])"
   ]
  },
  {
   "cell_type": "code",
   "execution_count": 251,
   "metadata": {},
   "outputs": [],
   "source": [
    "writers = writers.value_counts().head(10)"
   ]
  },
  {
   "cell_type": "code",
   "execution_count": 252,
   "metadata": {},
   "outputs": [
    {
     "data": {
      "text/plain": [
       "John Lasseter         8\n",
       "M. Night Shyamalan    7\n",
       "Jonathan Aibel        6\n",
       "Ehren Kruger          6\n",
       " J.K. Rowling         6\n",
       "Cinco Paul            6\n",
       " Akiva Goldsman       6\n",
       " Ken Daurio           6\n",
       " Glenn Berger         6\n",
       " Stephen McFeely      6\n",
       "dtype: int64"
      ]
     },
     "execution_count": 252,
     "metadata": {},
     "output_type": "execute_result"
    }
   ],
   "source": [
    "writers"
   ]
  },
  {
   "cell_type": "code",
   "execution_count": 253,
   "metadata": {},
   "outputs": [
    {
     "data": {
      "text/plain": [
       "<AxesSubplot:title={'center':'Occurences of writers in profitable movies'}, xlabel='Writers', ylabel='Occurence'>"
      ]
     },
     "execution_count": 253,
     "metadata": {},
     "output_type": "execute_result"
    },
    {
     "data": {
      "image/png": "[encoded data removed]",
      "text/plain": [
       "<Figure size 720x576 with 1 Axes>"
      ]
     },
     "metadata": {
      "needs_background": "light"
     },
     "output_type": "display_data"
    }
   ],
   "source": [
    "writers.plot.bar(xlabel = 'Writers', ylabel = 'Occurence', figsize = [10,8], title = 'Occurences of writers in profitable movies')\n",
    "\n"
   ]
  },
  {
   "cell_type": "markdown",
   "metadata": {},
   "source": [
    "## 2) Genre\n",
    "### Here we will find the genres that are most frequent among the top profitable movies"
   ]
  },
  {
   "cell_type": "code",
   "execution_count": 148,
   "metadata": {
    "scrolled": true
   },
   "outputs": [
    {
     "data": {
      "text/html": [
       "<div>\n",
       "<style scoped>\n",
       "    .dataframe tbody tr th:only-of-type {\n",
       "        vertical-align: middle;\n",
       "    }\n",
       "\n",
       "    .dataframe tbody tr th {\n",
       "        vertical-align: top;\n",
       "    }\n",
       "\n",
       "    .dataframe thead th {\n",
       "        text-align: right;\n",
       "    }\n",
       "</style>\n",
       "<table border=\"1\" class=\"dataframe\">\n",
       "  <thead>\n",
       "    <tr style=\"text-align: right;\">\n",
       "      <th></th>\n",
       "      <th>imdb_title_id</th>\n",
       "      <th>title</th>\n",
       "      <th>original_title</th>\n",
       "      <th>year</th>\n",
       "      <th>date_published</th>\n",
       "      <th>genre</th>\n",
       "      <th>duration</th>\n",
       "      <th>country</th>\n",
       "      <th>language</th>\n",
       "      <th>director</th>\n",
       "      <th>writer</th>\n",
       "      <th>production_company</th>\n",
       "      <th>actors</th>\n",
       "      <th>description</th>\n",
       "      <th>avg_vote</th>\n",
       "      <th>votes</th>\n",
       "      <th>budget</th>\n",
       "      <th>usa_gross_income</th>\n",
       "      <th>worlwide_gross_income</th>\n",
       "      <th>metascore</th>\n",
       "      <th>reviews_from_users</th>\n",
       "      <th>reviews_from_critics</th>\n",
       "      <th>Total Income</th>\n",
       "      <th>Profit</th>\n",
       "    </tr>\n",
       "  </thead>\n",
       "  <tbody>\n",
       "    <tr>\n",
       "      <th>49415</th>\n",
       "      <td>tt0499549</td>\n",
       "      <td>Avatar</td>\n",
       "      <td>Avatar</td>\n",
       "      <td>2009</td>\n",
       "      <td>2010-01-15</td>\n",
       "      <td>Action, Adventure, Fantasy</td>\n",
       "      <td>162</td>\n",
       "      <td>USA</td>\n",
       "      <td>English, Spanish</td>\n",
       "      <td>James Cameron</td>\n",
       "      <td>James Cameron</td>\n",
       "      <td>Twentieth Century Fox</td>\n",
       "      <td>Sam Worthington, Zoe Saldana, Sigourney Weaver...</td>\n",
       "      <td>A paraplegic Marine dispatched to the moon Pan...</td>\n",
       "      <td>7.8</td>\n",
       "      <td>1101160</td>\n",
       "      <td>237.0</td>\n",
       "      <td>760.0</td>\n",
       "      <td>2790.0</td>\n",
       "      <td>83.0</td>\n",
       "      <td>3442.0</td>\n",
       "      <td>733.0</td>\n",
       "      <td>3550.0</td>\n",
       "      <td>3313.0</td>\n",
       "    </tr>\n",
       "    <tr>\n",
       "      <th>73865</th>\n",
       "      <td>tt4154796</td>\n",
       "      <td>Avengers: Endgame</td>\n",
       "      <td>Avengers: Endgame</td>\n",
       "      <td>2019</td>\n",
       "      <td>2019-04-24</td>\n",
       "      <td>Action, Adventure, Drama</td>\n",
       "      <td>181</td>\n",
       "      <td>USA</td>\n",
       "      <td>English, Japanese, Xhosa, German</td>\n",
       "      <td>Anthony Russo, Joe Russo</td>\n",
       "      <td>Christopher Markus, Stephen McFeely</td>\n",
       "      <td>Marvel Studios</td>\n",
       "      <td>Robert Downey Jr., Chris Evans, Mark Ruffalo, ...</td>\n",
       "      <td>After the devastating events of</td>\n",
       "      <td>8.4</td>\n",
       "      <td>754786</td>\n",
       "      <td>356.0</td>\n",
       "      <td>858.0</td>\n",
       "      <td>2797.0</td>\n",
       "      <td>78.0</td>\n",
       "      <td>8869.0</td>\n",
       "      <td>557.0</td>\n",
       "      <td>3655.0</td>\n",
       "      <td>3299.0</td>\n",
       "    </tr>\n",
       "    <tr>\n",
       "      <th>67523</th>\n",
       "      <td>tt2488496</td>\n",
       "      <td>Star Wars - Il risveglio della Forza</td>\n",
       "      <td>Star Wars: Episode VII - The Force Awakens</td>\n",
       "      <td>2015</td>\n",
       "      <td>2015-12-16</td>\n",
       "      <td>Action, Adventure, Sci-Fi</td>\n",
       "      <td>138</td>\n",
       "      <td>USA</td>\n",
       "      <td>English</td>\n",
       "      <td>J.J. Abrams</td>\n",
       "      <td>Lawrence Kasdan, J.J. Abrams</td>\n",
       "      <td>Lucasfilm</td>\n",
       "      <td>Harrison Ford, Mark Hamill, Carrie Fisher, Ada...</td>\n",
       "      <td>As a new threat to the galaxy rises, Rey, a de...</td>\n",
       "      <td>7.9</td>\n",
       "      <td>845102</td>\n",
       "      <td>245.0</td>\n",
       "      <td>936.0</td>\n",
       "      <td>2068.0</td>\n",
       "      <td>80.0</td>\n",
       "      <td>4822.0</td>\n",
       "      <td>909.0</td>\n",
       "      <td>3004.0</td>\n",
       "      <td>2759.0</td>\n",
       "    </tr>\n",
       "    <tr>\n",
       "      <th>31086</th>\n",
       "      <td>tt0120338</td>\n",
       "      <td>Titanic</td>\n",
       "      <td>Titanic</td>\n",
       "      <td>1997</td>\n",
       "      <td>1998-01-16</td>\n",
       "      <td>Drama, Romance</td>\n",
       "      <td>194</td>\n",
       "      <td>USA, Mexico, Australia, Canada</td>\n",
       "      <td>English, Swedish, Italian, French</td>\n",
       "      <td>James Cameron</td>\n",
       "      <td>James Cameron</td>\n",
       "      <td>Twentieth Century Fox</td>\n",
       "      <td>Leonardo DiCaprio, Kate Winslet, Billy Zane, K...</td>\n",
       "      <td>A seventeen-year-old aristocrat falls in love ...</td>\n",
       "      <td>7.8</td>\n",
       "      <td>1023181</td>\n",
       "      <td>200.0</td>\n",
       "      <td>659.0</td>\n",
       "      <td>2195.0</td>\n",
       "      <td>75.0</td>\n",
       "      <td>2884.0</td>\n",
       "      <td>331.0</td>\n",
       "      <td>2854.0</td>\n",
       "      <td>2654.0</td>\n",
       "    </tr>\n",
       "    <tr>\n",
       "      <th>73864</th>\n",
       "      <td>tt4154756</td>\n",
       "      <td>Avengers: Infinity War</td>\n",
       "      <td>Avengers: Infinity War</td>\n",
       "      <td>2018</td>\n",
       "      <td>2018-04-25</td>\n",
       "      <td>Action, Adventure, Sci-Fi</td>\n",
       "      <td>149</td>\n",
       "      <td>USA</td>\n",
       "      <td>English</td>\n",
       "      <td>Anthony Russo, Joe Russo</td>\n",
       "      <td>Christopher Markus, Stephen McFeely</td>\n",
       "      <td>Marvel Studios</td>\n",
       "      <td>Robert Downey Jr., Chris Hemsworth, Mark Ruffa...</td>\n",
       "      <td>The Avengers and their allies must be willing ...</td>\n",
       "      <td>8.4</td>\n",
       "      <td>796486</td>\n",
       "      <td>321.0</td>\n",
       "      <td>678.0</td>\n",
       "      <td>2048.0</td>\n",
       "      <td>68.0</td>\n",
       "      <td>4273.0</td>\n",
       "      <td>611.0</td>\n",
       "      <td>2726.0</td>\n",
       "      <td>2405.0</td>\n",
       "    </tr>\n",
       "  </tbody>\n",
       "</table>\n",
       "</div>"
      ],
      "text/plain": [
       "      imdb_title_id                                 title  \\\n",
       "49415     tt0499549                                Avatar   \n",
       "73865     tt4154796                     Avengers: Endgame   \n",
       "67523     tt2488496  Star Wars - Il risveglio della Forza   \n",
       "31086     tt0120338                               Titanic   \n",
       "73864     tt4154756                Avengers: Infinity War   \n",
       "\n",
       "                                   original_title  year date_published  \\\n",
       "49415                                      Avatar  2009     2010-01-15   \n",
       "73865                           Avengers: Endgame  2019     2019-04-24   \n",
       "67523  Star Wars: Episode VII - The Force Awakens  2015     2015-12-16   \n",
       "31086                                     Titanic  1997     1998-01-16   \n",
       "73864                      Avengers: Infinity War  2018     2018-04-25   \n",
       "\n",
       "                            genre  duration                         country  \\\n",
       "49415  Action, Adventure, Fantasy       162                             USA   \n",
       "73865    Action, Adventure, Drama       181                             USA   \n",
       "67523   Action, Adventure, Sci-Fi       138                             USA   \n",
       "31086              Drama, Romance       194  USA, Mexico, Australia, Canada   \n",
       "73864   Action, Adventure, Sci-Fi       149                             USA   \n",
       "\n",
       "                                language                  director  \\\n",
       "49415                   English, Spanish             James Cameron   \n",
       "73865   English, Japanese, Xhosa, German  Anthony Russo, Joe Russo   \n",
       "67523                            English               J.J. Abrams   \n",
       "31086  English, Swedish, Italian, French             James Cameron   \n",
       "73864                            English  Anthony Russo, Joe Russo   \n",
       "\n",
       "                                    writer     production_company  \\\n",
       "49415                        James Cameron  Twentieth Century Fox   \n",
       "73865  Christopher Markus, Stephen McFeely         Marvel Studios   \n",
       "67523         Lawrence Kasdan, J.J. Abrams              Lucasfilm   \n",
       "31086                        James Cameron  Twentieth Century Fox   \n",
       "73864  Christopher Markus, Stephen McFeely         Marvel Studios   \n",
       "\n",
       "                                                  actors  \\\n",
       "49415  Sam Worthington, Zoe Saldana, Sigourney Weaver...   \n",
       "73865  Robert Downey Jr., Chris Evans, Mark Ruffalo, ...   \n",
       "67523  Harrison Ford, Mark Hamill, Carrie Fisher, Ada...   \n",
       "31086  Leonardo DiCaprio, Kate Winslet, Billy Zane, K...   \n",
       "73864  Robert Downey Jr., Chris Hemsworth, Mark Ruffa...   \n",
       "\n",
       "                                             description  avg_vote    votes  \\\n",
       "49415  A paraplegic Marine dispatched to the moon Pan...       7.8  1101160   \n",
       "73865                    After the devastating events of       8.4   754786   \n",
       "67523  As a new threat to the galaxy rises, Rey, a de...       7.9   845102   \n",
       "31086  A seventeen-year-old aristocrat falls in love ...       7.8  1023181   \n",
       "73864  The Avengers and their allies must be willing ...       8.4   796486   \n",
       "\n",
       "       budget  usa_gross_income  worlwide_gross_income  metascore  \\\n",
       "49415   237.0             760.0                 2790.0       83.0   \n",
       "73865   356.0             858.0                 2797.0       78.0   \n",
       "67523   245.0             936.0                 2068.0       80.0   \n",
       "31086   200.0             659.0                 2195.0       75.0   \n",
       "73864   321.0             678.0                 2048.0       68.0   \n",
       "\n",
       "       reviews_from_users  reviews_from_critics  Total Income  Profit  \n",
       "49415              3442.0                 733.0        3550.0  3313.0  \n",
       "73865              8869.0                 557.0        3655.0  3299.0  \n",
       "67523              4822.0                 909.0        3004.0  2759.0  \n",
       "31086              2884.0                 331.0        2854.0  2654.0  \n",
       "73864              4273.0                 611.0        2726.0  2405.0  "
      ]
     },
     "execution_count": 148,
     "metadata": {},
     "output_type": "execute_result"
    }
   ],
   "source": [
    "profit_movies.head()"
   ]
  },
  {
   "cell_type": "code",
   "execution_count": 149,
   "metadata": {},
   "outputs": [
    {
     "data": {
      "text/plain": [
       "Animation, Adventure, Comedy    88\n",
       "Action, Adventure, Sci-Fi       79\n",
       "Action, Adventure, Fantasy      40\n",
       "Action, Adventure, Comedy       36\n",
       "Comedy, Drama, Romance          32\n",
       "Comedy                          32\n",
       "Comedy, Romance                 32\n",
       "Action, Adventure, Thriller     30\n",
       "Action, Comedy, Crime           27\n",
       "Action, Adventure, Drama        25\n",
       "Animation, Action, Adventure    21\n",
       "Adventure, Family, Fantasy      17\n",
       "Drama, Romance                  17\n",
       "Adventure, Comedy, Family       16\n",
       "Action, Crime, Thriller         16\n",
       "Horror, Mystery, Thriller       16\n",
       "Action, Thriller                16\n",
       "Comedy, Drama                   15\n",
       "Crime, Drama, Thriller          14\n",
       "Animation, Comedy, Family       13\n",
       "Comedy, Family, Fantasy         12\n",
       "Drama                           10\n",
       "Action, Sci-Fi                  10\n",
       "Animation, Adventure, Family    10\n",
       "Comedy, Drama, Family            9\n",
       "Biography, Drama, History        8\n",
       "Biography, Drama                 8\n",
       "Action, Drama, Thriller          8\n",
       "Crime, Drama, Mystery            8\n",
       "Action, Adventure                8\n",
       "Action, Crime, Drama             7\n",
       "Drama, Thriller                  7\n",
       "Action, Adventure, Family        7\n",
       "Action, Mystery, Thriller        7\n",
       "Adventure, Drama, Fantasy        7\n",
       "Horror, Mystery                  6\n",
       "Comedy, Crime                    6\n",
       "Action, Adventure, Mystery       6\n",
       "Drama, Mystery, Thriller         6\n",
       "Action, Drama, Sci-Fi            6\n",
       "Action, Adventure, Horror        5\n",
       "Drama, Sport                     5\n",
       "Drama, Fantasy, Romance          5\n",
       "Comedy, Family                   5\n",
       "Action, Adventure, Crime         5\n",
       "Biography, Crime, Drama          5\n",
       "Action, Sci-Fi, Thriller         5\n",
       "Comedy, Crime, Drama             5\n",
       "Action, Horror, Sci-Fi           4\n",
       "Crime, Thriller                  4\n",
       "Biography, Comedy, Drama         4\n",
       "Comedy, Sport                    4\n",
       "Drama, Music, Romance            4\n",
       "Horror                           4\n",
       "Biography, Drama, Sport          4\n",
       "Action, Comedy, Fantasy          4\n",
       "Adventure, Comedy, Sci-Fi        4\n",
       "Animation, Adventure, Drama      4\n",
       "Adventure, Comedy, Crime         4\n",
       "Drama, Mystery, Sci-Fi           4\n",
       "Adventure, Comedy, Drama         4\n",
       "Adventure, Drama, Family         3\n",
       "Animation, Drama, Family         3\n",
       "Action, Drama, Fantasy           3\n",
       "Comedy, Music                    3\n",
       "Drama, Western                   3\n",
       "Drama, Sci-Fi, Thriller          3\n",
       "Crime, Drama                     3\n",
       "Mystery, Thriller                3\n",
       "Drama, Romance, War              3\n",
       "Comedy, Drama, Fantasy           3\n",
       "Animation, Family, Fantasy       3\n",
       "Action, Biography, Drama         3\n",
       "Horror, Thriller                 3\n",
       "Biography, Drama, Music          3\n",
       "Adventure, Fantasy               3\n",
       "Comedy, Fantasy                  3\n",
       "Drama, History, Thriller         3\n",
       "Drama, War                       3\n",
       "Action, Drama                    3\n",
       "Action, Drama, History           3\n",
       "Action, Fantasy, Horror          2\n",
       "Action, Crime, Fantasy           2\n",
       "Comedy, Romance, Sci-Fi          2\n",
       "Action, Drama, Mystery           2\n",
       "Adventure, Drama, History        2\n",
       "Drama, Romance, Thriller         2\n",
       "Action, Comedy                   2\n",
       "Biography, Drama, Thriller       2\n",
       "Comedy, Crime, Romance           2\n",
       "Comedy, Fantasy, Romance         2\n",
       "Action, Drama, War               2\n",
       "Drama, Sci-Fi                    2\n",
       "Comedy, Horror                   2\n",
       "Action, Crime, Sci-Fi            2\n",
       "Crime, Horror, Thriller          2\n",
       "Comedy, Family, Romance          2\n",
       "Drama, Fantasy, Horror           2\n",
       "Adventure, Drama, Sci-Fi         2\n",
       "Drama, Music                     2\n",
       "Comedy, Western                  2\n",
       "Biography, Drama, Romance        2\n",
       "Drama, Family, Fantasy           2\n",
       "Comedy, Musical, Romance         2\n",
       "Animation, Action, Comedy        2\n",
       "Comedy, Family, Sci-Fi           1\n",
       "Drama, History, Romance          1\n",
       "Drama, Musical, Romance          1\n",
       "Biography, Drama, Family         1\n",
       "Biography, Drama, Musical        1\n",
       "Drama, Family                    1\n",
       "Adventure, Biography, Crime      1\n",
       "Action, Fantasy, Thriller        1\n",
       "Drama, Romance, Western          1\n",
       "Drama, History                   1\n",
       "Musical, Romance                 1\n",
       "Drama, Horror, Mystery           1\n",
       "Comedy, Family, Sport            1\n",
       "Crime, Drama, Fantasy            1\n",
       "Comedy, Crime, Family            1\n",
       "Comedy, Drama, History           1\n",
       "Comedy, Musical                  1\n",
       "Comedy, Fantasy, Horror          1\n",
       "Comedy, Drama, Thriller          1\n",
       "Action, Adventure, History       1\n",
       "Adventure, Drama, Western        1\n",
       "Action, Drama, Romance           1\n",
       "Fantasy, Horror, Mystery         1\n",
       "Action, Comedy, Family           1\n",
       "Adventure, Thriller              1\n",
       "Family, Sci-Fi                   1\n",
       "Comedy, Crime, Musical           1\n",
       "Drama, Horror                    1\n",
       "Adventure, Horror, Thriller      1\n",
       "Drama, History, Musical          1\n",
       "Comedy, Crime, Sport             1\n",
       "Drama, Horror, Sci-Fi            1\n",
       "Action, Comedy, War              1\n",
       "Comedy, Drama, Musical           1\n",
       "Action, Crime, Romance           1\n",
       "Action, Comedy, Thriller         1\n",
       "Action, Drama, Sport             1\n",
       "Sci-Fi, Thriller                 1\n",
       "Action, Comedy, Drama            1\n",
       "Family, Fantasy, Musical         1\n",
       "Action, Drama, Music             1\n",
       "Comedy, Drama, Music             1\n",
       "Fantasy, Mystery, Romance        1\n",
       "Adventure, Sci-Fi, Thriller      1\n",
       "Biography, Drama, War            1\n",
       "Action, Fantasy                  1\n",
       "Comedy, Fantasy, Music           1\n",
       "Action, Crime                    1\n",
       "Adventure, Drama, War            1\n",
       "Adventure, Drama, Romance        1\n",
       "Mystery, Sci-Fi, Thriller        1\n",
       "Action, Adventure, Biography     1\n",
       "Horror, Sci-Fi, Thriller         1\n",
       "Drama, Horror, Thriller          1\n",
       "Action, Mystery, Sci-Fi          1\n",
       "Drama, Romance, Sci-Fi           1\n",
       "Action, Crime, Mystery           1\n",
       "Crime, Drama, History            1\n",
       "Action, Drama, Family            1\n",
       "Crime, Mystery, Thriller         1\n",
       "Comedy, Drama, Sci-Fi            1\n",
       "Adventure, Mystery, Sci-Fi       1\n",
       "Name: genre, dtype: int64"
      ]
     },
     "execution_count": 149,
     "metadata": {},
     "output_type": "execute_result"
    }
   ],
   "source": [
    "profit_movies['genre'].value_counts()"
   ]
  },
  {
   "cell_type": "code",
   "execution_count": 150,
   "metadata": {},
   "outputs": [],
   "source": [
    "profit_movies[\"genre_II\"] = profit_movies['genre'].str.split(',')"
   ]
  },
  {
   "cell_type": "code",
   "execution_count": 151,
   "metadata": {},
   "outputs": [
    {
     "data": {
      "text/html": [
       "<div>\n",
       "<style scoped>\n",
       "    .dataframe tbody tr th:only-of-type {\n",
       "        vertical-align: middle;\n",
       "    }\n",
       "\n",
       "    .dataframe tbody tr th {\n",
       "        vertical-align: top;\n",
       "    }\n",
       "\n",
       "    .dataframe thead th {\n",
       "        text-align: right;\n",
       "    }\n",
       "</style>\n",
       "<table border=\"1\" class=\"dataframe\">\n",
       "  <thead>\n",
       "    <tr style=\"text-align: right;\">\n",
       "      <th></th>\n",
       "      <th>imdb_title_id</th>\n",
       "      <th>title</th>\n",
       "      <th>original_title</th>\n",
       "      <th>year</th>\n",
       "      <th>date_published</th>\n",
       "      <th>genre</th>\n",
       "      <th>duration</th>\n",
       "      <th>country</th>\n",
       "      <th>language</th>\n",
       "      <th>director</th>\n",
       "      <th>writer</th>\n",
       "      <th>production_company</th>\n",
       "      <th>actors</th>\n",
       "      <th>description</th>\n",
       "      <th>avg_vote</th>\n",
       "      <th>votes</th>\n",
       "      <th>budget</th>\n",
       "      <th>usa_gross_income</th>\n",
       "      <th>worlwide_gross_income</th>\n",
       "      <th>metascore</th>\n",
       "      <th>reviews_from_users</th>\n",
       "      <th>reviews_from_critics</th>\n",
       "      <th>Total Income</th>\n",
       "      <th>Profit</th>\n",
       "      <th>genre_II</th>\n",
       "    </tr>\n",
       "  </thead>\n",
       "  <tbody>\n",
       "    <tr>\n",
       "      <th>49415</th>\n",
       "      <td>tt0499549</td>\n",
       "      <td>Avatar</td>\n",
       "      <td>Avatar</td>\n",
       "      <td>2009</td>\n",
       "      <td>2010-01-15</td>\n",
       "      <td>Action, Adventure, Fantasy</td>\n",
       "      <td>162</td>\n",
       "      <td>USA</td>\n",
       "      <td>English, Spanish</td>\n",
       "      <td>James Cameron</td>\n",
       "      <td>James Cameron</td>\n",
       "      <td>Twentieth Century Fox</td>\n",
       "      <td>Sam Worthington, Zoe Saldana, Sigourney Weaver...</td>\n",
       "      <td>A paraplegic Marine dispatched to the moon Pan...</td>\n",
       "      <td>7.8</td>\n",
       "      <td>1101160</td>\n",
       "      <td>237.0</td>\n",
       "      <td>760.0</td>\n",
       "      <td>2790.0</td>\n",
       "      <td>83.0</td>\n",
       "      <td>3442.0</td>\n",
       "      <td>733.0</td>\n",
       "      <td>3550.0</td>\n",
       "      <td>3313.0</td>\n",
       "      <td>[Action,  Adventure,  Fantasy]</td>\n",
       "    </tr>\n",
       "    <tr>\n",
       "      <th>73865</th>\n",
       "      <td>tt4154796</td>\n",
       "      <td>Avengers: Endgame</td>\n",
       "      <td>Avengers: Endgame</td>\n",
       "      <td>2019</td>\n",
       "      <td>2019-04-24</td>\n",
       "      <td>Action, Adventure, Drama</td>\n",
       "      <td>181</td>\n",
       "      <td>USA</td>\n",
       "      <td>English, Japanese, Xhosa, German</td>\n",
       "      <td>Anthony Russo, Joe Russo</td>\n",
       "      <td>Christopher Markus, Stephen McFeely</td>\n",
       "      <td>Marvel Studios</td>\n",
       "      <td>Robert Downey Jr., Chris Evans, Mark Ruffalo, ...</td>\n",
       "      <td>After the devastating events of</td>\n",
       "      <td>8.4</td>\n",
       "      <td>754786</td>\n",
       "      <td>356.0</td>\n",
       "      <td>858.0</td>\n",
       "      <td>2797.0</td>\n",
       "      <td>78.0</td>\n",
       "      <td>8869.0</td>\n",
       "      <td>557.0</td>\n",
       "      <td>3655.0</td>\n",
       "      <td>3299.0</td>\n",
       "      <td>[Action,  Adventure,  Drama]</td>\n",
       "    </tr>\n",
       "    <tr>\n",
       "      <th>67523</th>\n",
       "      <td>tt2488496</td>\n",
       "      <td>Star Wars - Il risveglio della Forza</td>\n",
       "      <td>Star Wars: Episode VII - The Force Awakens</td>\n",
       "      <td>2015</td>\n",
       "      <td>2015-12-16</td>\n",
       "      <td>Action, Adventure, Sci-Fi</td>\n",
       "      <td>138</td>\n",
       "      <td>USA</td>\n",
       "      <td>English</td>\n",
       "      <td>J.J. Abrams</td>\n",
       "      <td>Lawrence Kasdan, J.J. Abrams</td>\n",
       "      <td>Lucasfilm</td>\n",
       "      <td>Harrison Ford, Mark Hamill, Carrie Fisher, Ada...</td>\n",
       "      <td>As a new threat to the galaxy rises, Rey, a de...</td>\n",
       "      <td>7.9</td>\n",
       "      <td>845102</td>\n",
       "      <td>245.0</td>\n",
       "      <td>936.0</td>\n",
       "      <td>2068.0</td>\n",
       "      <td>80.0</td>\n",
       "      <td>4822.0</td>\n",
       "      <td>909.0</td>\n",
       "      <td>3004.0</td>\n",
       "      <td>2759.0</td>\n",
       "      <td>[Action,  Adventure,  Sci-Fi]</td>\n",
       "    </tr>\n",
       "    <tr>\n",
       "      <th>31086</th>\n",
       "      <td>tt0120338</td>\n",
       "      <td>Titanic</td>\n",
       "      <td>Titanic</td>\n",
       "      <td>1997</td>\n",
       "      <td>1998-01-16</td>\n",
       "      <td>Drama, Romance</td>\n",
       "      <td>194</td>\n",
       "      <td>USA, Mexico, Australia, Canada</td>\n",
       "      <td>English, Swedish, Italian, French</td>\n",
       "      <td>James Cameron</td>\n",
       "      <td>James Cameron</td>\n",
       "      <td>Twentieth Century Fox</td>\n",
       "      <td>Leonardo DiCaprio, Kate Winslet, Billy Zane, K...</td>\n",
       "      <td>A seventeen-year-old aristocrat falls in love ...</td>\n",
       "      <td>7.8</td>\n",
       "      <td>1023181</td>\n",
       "      <td>200.0</td>\n",
       "      <td>659.0</td>\n",
       "      <td>2195.0</td>\n",
       "      <td>75.0</td>\n",
       "      <td>2884.0</td>\n",
       "      <td>331.0</td>\n",
       "      <td>2854.0</td>\n",
       "      <td>2654.0</td>\n",
       "      <td>[Drama,  Romance]</td>\n",
       "    </tr>\n",
       "    <tr>\n",
       "      <th>73864</th>\n",
       "      <td>tt4154756</td>\n",
       "      <td>Avengers: Infinity War</td>\n",
       "      <td>Avengers: Infinity War</td>\n",
       "      <td>2018</td>\n",
       "      <td>2018-04-25</td>\n",
       "      <td>Action, Adventure, Sci-Fi</td>\n",
       "      <td>149</td>\n",
       "      <td>USA</td>\n",
       "      <td>English</td>\n",
       "      <td>Anthony Russo, Joe Russo</td>\n",
       "      <td>Christopher Markus, Stephen McFeely</td>\n",
       "      <td>Marvel Studios</td>\n",
       "      <td>Robert Downey Jr., Chris Hemsworth, Mark Ruffa...</td>\n",
       "      <td>The Avengers and their allies must be willing ...</td>\n",
       "      <td>8.4</td>\n",
       "      <td>796486</td>\n",
       "      <td>321.0</td>\n",
       "      <td>678.0</td>\n",
       "      <td>2048.0</td>\n",
       "      <td>68.0</td>\n",
       "      <td>4273.0</td>\n",
       "      <td>611.0</td>\n",
       "      <td>2726.0</td>\n",
       "      <td>2405.0</td>\n",
       "      <td>[Action,  Adventure,  Sci-Fi]</td>\n",
       "    </tr>\n",
       "  </tbody>\n",
       "</table>\n",
       "</div>"
      ],
      "text/plain": [
       "      imdb_title_id                                 title  \\\n",
       "49415     tt0499549                                Avatar   \n",
       "73865     tt4154796                     Avengers: Endgame   \n",
       "67523     tt2488496  Star Wars - Il risveglio della Forza   \n",
       "31086     tt0120338                               Titanic   \n",
       "73864     tt4154756                Avengers: Infinity War   \n",
       "\n",
       "                                   original_title  year date_published  \\\n",
       "49415                                      Avatar  2009     2010-01-15   \n",
       "73865                           Avengers: Endgame  2019     2019-04-24   \n",
       "67523  Star Wars: Episode VII - The Force Awakens  2015     2015-12-16   \n",
       "31086                                     Titanic  1997     1998-01-16   \n",
       "73864                      Avengers: Infinity War  2018     2018-04-25   \n",
       "\n",
       "                            genre  duration                         country  \\\n",
       "49415  Action, Adventure, Fantasy       162                             USA   \n",
       "73865    Action, Adventure, Drama       181                             USA   \n",
       "67523   Action, Adventure, Sci-Fi       138                             USA   \n",
       "31086              Drama, Romance       194  USA, Mexico, Australia, Canada   \n",
       "73864   Action, Adventure, Sci-Fi       149                             USA   \n",
       "\n",
       "                                language                  director  \\\n",
       "49415                   English, Spanish             James Cameron   \n",
       "73865   English, Japanese, Xhosa, German  Anthony Russo, Joe Russo   \n",
       "67523                            English               J.J. Abrams   \n",
       "31086  English, Swedish, Italian, French             James Cameron   \n",
       "73864                            English  Anthony Russo, Joe Russo   \n",
       "\n",
       "                                    writer     production_company  \\\n",
       "49415                        James Cameron  Twentieth Century Fox   \n",
       "73865  Christopher Markus, Stephen McFeely         Marvel Studios   \n",
       "67523         Lawrence Kasdan, J.J. Abrams              Lucasfilm   \n",
       "31086                        James Cameron  Twentieth Century Fox   \n",
       "73864  Christopher Markus, Stephen McFeely         Marvel Studios   \n",
       "\n",
       "                                                  actors  \\\n",
       "49415  Sam Worthington, Zoe Saldana, Sigourney Weaver...   \n",
       "73865  Robert Downey Jr., Chris Evans, Mark Ruffalo, ...   \n",
       "67523  Harrison Ford, Mark Hamill, Carrie Fisher, Ada...   \n",
       "31086  Leonardo DiCaprio, Kate Winslet, Billy Zane, K...   \n",
       "73864  Robert Downey Jr., Chris Hemsworth, Mark Ruffa...   \n",
       "\n",
       "                                             description  avg_vote    votes  \\\n",
       "49415  A paraplegic Marine dispatched to the moon Pan...       7.8  1101160   \n",
       "73865                    After the devastating events of       8.4   754786   \n",
       "67523  As a new threat to the galaxy rises, Rey, a de...       7.9   845102   \n",
       "31086  A seventeen-year-old aristocrat falls in love ...       7.8  1023181   \n",
       "73864  The Avengers and their allies must be willing ...       8.4   796486   \n",
       "\n",
       "       budget  usa_gross_income  worlwide_gross_income  metascore  \\\n",
       "49415   237.0             760.0                 2790.0       83.0   \n",
       "73865   356.0             858.0                 2797.0       78.0   \n",
       "67523   245.0             936.0                 2068.0       80.0   \n",
       "31086   200.0             659.0                 2195.0       75.0   \n",
       "73864   321.0             678.0                 2048.0       68.0   \n",
       "\n",
       "       reviews_from_users  reviews_from_critics  Total Income  Profit  \\\n",
       "49415              3442.0                 733.0        3550.0  3313.0   \n",
       "73865              8869.0                 557.0        3655.0  3299.0   \n",
       "67523              4822.0                 909.0        3004.0  2759.0   \n",
       "31086              2884.0                 331.0        2854.0  2654.0   \n",
       "73864              4273.0                 611.0        2726.0  2405.0   \n",
       "\n",
       "                             genre_II  \n",
       "49415  [Action,  Adventure,  Fantasy]  \n",
       "73865    [Action,  Adventure,  Drama]  \n",
       "67523   [Action,  Adventure,  Sci-Fi]  \n",
       "31086               [Drama,  Romance]  \n",
       "73864   [Action,  Adventure,  Sci-Fi]  "
      ]
     },
     "execution_count": 151,
     "metadata": {},
     "output_type": "execute_result"
    }
   ],
   "source": [
    "profit_movies.head()"
   ]
  },
  {
   "cell_type": "code",
   "execution_count": 155,
   "metadata": {},
   "outputs": [],
   "source": []
  },
  {
   "cell_type": "code",
   "execution_count": 166,
   "metadata": {},
   "outputs": [],
   "source": [
    "genres = to_1D(profit_movies['genre_II'])"
   ]
  },
  {
   "cell_type": "code",
   "execution_count": 174,
   "metadata": {},
   "outputs": [],
   "source": [
    "genres = genres.value_counts()"
   ]
  },
  {
   "cell_type": "code",
   "execution_count": 178,
   "metadata": {},
   "outputs": [
    {
     "data": {
      "text/plain": [
       "<AxesSubplot:title={'center':'Occurences of genres in profitable movies'}, xlabel='Genre', ylabel='Occurence'>"
      ]
     },
     "execution_count": 178,
     "metadata": {},
     "output_type": "execute_result"
    },
    {
     "data": {
      "image/png": "[encoded data removed]",
      "text/plain": [
       "<Figure size 720x576 with 1 Axes>"
      ]
     },
     "metadata": {
      "needs_background": "light"
     },
     "output_type": "display_data"
    }
   ],
   "source": [
    "genres.plot.bar(xlabel = 'Genre', ylabel = 'Occurence', figsize = [10,8], title = 'Occurences of genres in profitable movies')\n"
   ]
  },
  {
   "cell_type": "markdown",
   "metadata": {},
   "source": [
    "## 3) Actors\n",
    "### Here we will find the actors who star more frequently in the most profitable movies"
   ]
  },
  {
   "cell_type": "code",
   "execution_count": 186,
   "metadata": {},
   "outputs": [],
   "source": [
    "profit_movies['actors_II'] = profit_movies['actors'].str.split(',')"
   ]
  },
  {
   "cell_type": "code",
   "execution_count": 187,
   "metadata": {},
   "outputs": [],
   "source": [
    "actors = to_1D(profit_movies['actors_II'])"
   ]
  },
  {
   "cell_type": "code",
   "execution_count": 188,
   "metadata": {},
   "outputs": [],
   "source": [
    "actors = actors.value_counts()"
   ]
  },
  {
   "cell_type": "code",
   "execution_count": 196,
   "metadata": {},
   "outputs": [
    {
     "data": {
      "text/plain": [
       " Samuel L. Jackson    29\n",
       "Tom Cruise            22\n",
       " Morgan Freeman       20\n",
       "Tom Hanks             19\n",
       "Adam Sandler          17\n",
       " Jon Favreau          15\n",
       " Alan Tudyk           14\n",
       "Jim Carrey            14\n",
       " Alec Baldwin         13\n",
       " Jonah Hill           13\n",
       "dtype: int64"
      ]
     },
     "execution_count": 196,
     "metadata": {},
     "output_type": "execute_result"
    }
   ],
   "source": [
    "actors.head(10)"
   ]
  },
  {
   "cell_type": "code",
   "execution_count": 197,
   "metadata": {},
   "outputs": [
    {
     "data": {
      "text/plain": [
       "<AxesSubplot:title={'center':'Occurences of actors in profitable movies'}, xlabel='Actors', ylabel='Occurence'>"
      ]
     },
     "execution_count": 197,
     "metadata": {},
     "output_type": "execute_result"
    },
    {
     "data": {
      "image/png": "[encoded data removed]",
      "text/plain": [
       "<Figure size 1080x720 with 1 Axes>"
      ]
     },
     "metadata": {
      "needs_background": "light"
     },
     "output_type": "display_data"
    }
   ],
   "source": [
    "actors.head(10).plot.bar(xlabel = 'Actors', ylabel = 'Occurence', figsize = [15,10], title = 'Occurences of actors in profitable movies')\n",
    "\n"
   ]
  },
  {
   "cell_type": "code",
   "execution_count": null,
   "metadata": {},
   "outputs": [],
   "source": []
  }
 ],
 "metadata": {
  "kernelspec": {
   "display_name": "Python 3",
   "language": "python",
   "name": "python3"
  },
  "language_info": {
   "codemirror_mode": {
    "name": "ipython",
    "version": 3
   },
   "file_extension": ".py",
   "mimetype": "text/x-python",
   "name": "python",
   "nbconvert_exporter": "python",
   "pygments_lexer": "ipython3",
   "version": "3.8.5"
  }
 },
 "nbformat": 4,
 "nbformat_minor": 4
}
